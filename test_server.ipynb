{
 "metadata": {
  "language_info": {
   "codemirror_mode": {
    "name": "ipython",
    "version": 3
   },
   "file_extension": ".py",
   "mimetype": "text/x-python",
   "name": "python",
   "nbconvert_exporter": "python",
   "pygments_lexer": "ipython3",
   "version": "3.8.3-final"
  },
  "orig_nbformat": 2,
  "kernelspec": {
   "name": "python3",
   "display_name": "Python 3",
   "language": "python"
  }
 },
 "nbformat": 4,
 "nbformat_minor": 2,
 "cells": [
  {
   "source": [
    "# Test flask server"
   ],
   "cell_type": "markdown",
   "metadata": {}
  },
  {
   "cell_type": "code",
   "execution_count": 8,
   "metadata": {},
   "outputs": [],
   "source": [
    "from isegm.inference import utils\n",
    "from isegm.utils import vis, exp\n",
    "import random\n",
    "\n",
    "# selct a random image from dataset\n",
    "DATASET = 'GrabCut'\n",
    "cfg = exp.load_config_file('./config.yml', return_edict=True)\n",
    "dataset = utils.get_dataset(DATASET, cfg)\n",
    "index = random.sample(range(len(dataset)), 1)[0]\n",
    "sample = dataset.get_sample(index)\n",
    "image_name = dataset.dataset_samples[index]\n",
    "image_path = str(dataset._images_path / image_name)\n",
    "gt_mask = sample.gt_mask\n"
   ]
  },
  {
   "cell_type": "code",
   "execution_count": 9,
   "metadata": {},
   "outputs": [],
   "source": [
    "# generate click and send request\n",
    "import requests\n",
    "from isegm.inference.clicker import Clicker, Click\n",
    "import numpy as np\n",
    "\n",
    "# init mouse click\n",
    "clicker = Clicker(gt_mask=gt_mask)\n",
    "pred_mask = np.zeros_like(gt_mask)\n",
    "ious_list = []\n",
    "polygons = []\n",
    "view_img = None"
   ]
  },
  {
   "source": [
    "# Send request and display result\n",
    "👉🏻 Execute this block multiple times to see iterative prediction results"
   ],
   "cell_type": "markdown",
   "metadata": {}
  },
  {
   "cell_type": "code",
   "execution_count": 10,
   "metadata": {},
   "outputs": [
    {
     "output_type": "stream",
     "name": "stdout",
     "text": [
      "Click(0): x:155, y:243, p:1\n<Response [500]>\n"
     ]
    }
   ],
   "source": [
    "from imantics import Polygons, Mask, Annotation\n",
    "import json\n",
    "from PIL import Image\n",
    "from io import BytesIO\n",
    "SEG_URL = 'http://39.105.9.150:5005/interactive_segmentation'\n",
    "IMG_URL = 'http://39.105.9.150:5005/view_image/'\n",
    "\n",
    "# gen clicks\n",
    "clicker.make_next_click(pred_mask)\n",
    "click_history = []\n",
    "for click in clicker.clicks_list:\n",
    "    (y, x, i) = click.coords_and_indx\n",
    "    p = click.is_positive\n",
    "    x , y, p = int(x), int(y), int(p)\n",
    "    click_history.append({'x':x, 'y':y, 'positive':p, 'index': i})\n",
    "    print(f'Click({i}): x:{x}, y:{y}, p:{p}')\n",
    "assert click_history[-1]['index'] == len(clicker.clicks_list)-1, f'Last history is not the current click'\n",
    "\n",
    "# gen request\n",
    "result = requests.post('http://0.0.0.0:5005/interactive_segmentation', \n",
    "    data={\n",
    "        # 'image': open(image_path, 'rb'),\n",
    "        'click_history': json.dumps(click_history),\n",
    "        'prev_polygon': json.dumps(polygons),\n",
    "        'view_img': 'true'\n",
    "    }, \n",
    "    files={\n",
    "        'image': (image_name, open(image_path, 'rb')),\n",
    "        # 'gt_mask': ('gt_mask', open()) #TODO: send gt_mask\n",
    "    }\n",
    ")\n",
    "\n",
    "if result.status_code != 200:\n",
    "    print(result)\n",
    "else:\n",
    "    #update prediction\n",
    "    polygons = result.json()['polygons']\n",
    "    img = Image.open(image_path)\n",
    "    pred_mask = Polygons(polygons).mask(width=img.width, height=img.height).array\n",
    "\n",
    "    #display image\n",
    "    filename = result.json()['result']\n",
    "    pred_img = requests.get(IMG_URL+filename)\n",
    "    view_img = Image.open(BytesIO(pred_img.content))\n",
    "view_img"
   ]
  }
 ]
}