{
 "nbformat": 4,
 "nbformat_minor": 0,
 "metadata": {
  "colab": {
   "name": "colab_test_any_model.ipynb",
   "provenance": [],
   "collapsed_sections": [],
   "authorship_tag": "ABX9TyM+L4AdVeLMu90VmvOnwlTB"
  },
  "kernelspec": {
   "name": "python3",
   "display_name": "Python 3"
  }
 },
 "cells": [
  {
   "cell_type": "markdown",
   "metadata": {
    "id": "zKd4Z6wz8WHv"
   },
   "source": [
    "### Clone repository, download models and data, install necessary packages"
   ]
  },
  {
   "cell_type": "code",
   "metadata": {
    "id": "aOhRdxx01YH0"
   },
   "source": [
    "!git clone -q https://github.com/saic-vul/ritm_interactive_segmentation\n",
    "\n",
    "# Evaluation datasets are stored in another repository\n",
	"URL_PREFIX_FBRS = \"https://github.com/saic-vul/fbrs_interactive_segmentation/releases/download/v1.0\"\n",
	"URL_PREFIX_RITM = \"https://github.com/saic-vul/ritm_interactive_segmentation/releases/download/v1.0\"\n",
    "DATA_FOLDER = \"./ritm_interactive_segmentation/datasets\" \n",
    "WEIGHTS_FOLDER = \"./ritm_interactive_segmentation/weights\"\n",
    "\n",
    "!mkdir -p {DATA_FOLDER}\n",
    "!mkdir -p {WEIGHTS_FOLDER}\n",
    "\n",
    "# CHOOSE MODEL HERE\n",
    "# possible choices are: coco_lvis_h18s_itermask,  coco_lvis_h18_baseline, coco_lvis_h18_itermask,\n",
    "# coco_lvis_h18_itermask, sbd_h18_itermask\n",
    "MODEL_NAME = \"coco_lvis_h18s_itermask\"\n",
    "WEIGHTS_URL = f\"{URL_PREFIX_RITM}/{MODEL_NAME}.pth\"\n",
    "!wget -q -P {WEIGHTS_FOLDER} {WEIGHTS_URL}\n",
    "\n",
    "for dataset in ['GrabCut', 'Berkeley', 'DAVIS', 'COCO_MVal']:\n",
    "  dataset_url = f\"{URL_PREFIX_FBRS}/{dataset}.zip\"\n",
    "  dataset_path = f\"{DATA_FOLDER}/{dataset}.zip\"\n",
    "  !wget -q -O {dataset_path} {dataset_url}\n",
    "  !unzip -q {dataset_path} -d {DATA_FOLDER}\n",
    "  !rm {dataset_path}\n",
    "\n",
    "!pip3 install -q -r ./ritm_interactive_segmentation/requirements.txt\n",
    "%cd ritm_interactive_segmentation/"
   ],
   "execution_count": null,
   "outputs": []
  },
  {
   "cell_type": "markdown",
   "metadata": {
    "id": "9cwOspcT8gDb"
   },
   "source": [
    "### Imports"
   ]
  },
  {
   "cell_type": "code",
   "metadata": {
    "id": "E8RethT83nRc"
   },
   "source": [
    "%matplotlib inline\n",
    "import matplotlib.pyplot as plt\n",
    "\n",
    "import sys\n",
    "import torch\n",
    "import numpy as np\n",
    "\n",
    "sys.path.insert(0, './')\n",
    "\n",
    "from isegm.utils import vis, exp\n",
    "from isegm.inference import utils\n",
    "from isegm.inference.evaluation import evaluate_dataset, evaluate_sample\n",
    "\n",
    "device = torch.device('cuda:0')\n",
    "cfg = exp.load_config_file('./config.yml', return_edict=True)\n"
   ],
   "execution_count": null,
   "outputs": []
  },
  {
   "cell_type": "markdown",
   "metadata": {
    "id": "9T3CWGZc8kZt"
   },
   "source": [
    "### Init dataset"
   ]
  },
  {
   "cell_type": "code",
   "metadata": {
    "id": "qvokqHDgCsHi"
   },
   "source": [
    "# Possible choices: 'GrabCut', 'Berkeley', 'DAVIS', 'COCO_MVal'\n",
    "DATASET = 'GrabCut'\n",
    "dataset = utils.get_dataset(DATASET, cfg)"
   ],
   "execution_count": null,
   "outputs": []
  },
  {
   "cell_type": "markdown",
   "metadata": {
    "id": "p_DZ60HVCsZi"
   },
   "source": [
    "### Init model"
   ]
  },
  {
   "cell_type": "code",
   "metadata": {
    "id": "dK-1alE08m8m"
   },
   "source": [
    "from isegm.inference.predictors import get_predictor\n",
    "\n",
    "EVAL_MAX_CLICKS = 20\n",
    "MODEL_THRESH = 0.49\n",
    "\n",
    "checkpoint_path = utils.find_checkpoint(cfg.INTERACTIVE_MODELS_PATH, MODEL_NAME)\n",
    "model = utils.load_is_model(checkpoint_path, device)\n",
    "\n",
    "# Possible choices: 'NoBRS', 'f-BRS-A', 'f-BRS-B', 'f-BRS-C', 'RGB-BRS', 'DistMap-BRS'\n",
    "brs_mode = 'NoBRS'\n",
    "predictor = get_predictor(model, brs_mode, device, prob_thresh=MODEL_THRESH)"
   ],
   "execution_count": null,
   "outputs": []
  },
  {
   "cell_type": "markdown",
   "metadata": {
    "id": "3xpSOo-e8pyt"
   },
   "source": [
    "### Dataset evaluation"
   ]
  },
  {
   "cell_type": "code",
   "metadata": {
    "id": "4SINqtTo8o-n"
   },
   "source": [
    "TARGET_IOU = 0.9\n",
    "\n",
    "all_ious, elapsed_time = evaluate_dataset(dataset, predictor, pred_thr=MODEL_THRESH, \n",
    "                                          max_iou_thr=TARGET_IOU, max_clicks=EVAL_MAX_CLICKS)\n",
    "mean_spc, mean_spi = utils.get_time_metrics(all_ious, elapsed_time)\n",
    "noc_list, over_max_list = utils.compute_noc_metric(all_ious,\n",
    "                                                   iou_thrs=[0.8, 0.85, 0.9],\n",
    "                                                   max_clicks=EVAL_MAX_CLICKS)\n",
    "\n",
    "header, table_row = utils.get_results_table(noc_list, over_max_list, brs_mode, DATASET,\n",
    "                                            mean_spc, elapsed_time, EVAL_MAX_CLICKS)\n",
    "print(header)\n",
    "print(table_row)"
   ],
   "execution_count": null,
   "outputs": []
  },
  {
   "cell_type": "markdown",
   "metadata": {
    "id": "SP0yyV-08s8d"
   },
   "source": [
    "### Single sample eval"
   ]
  },
  {
   "cell_type": "code",
   "metadata": {
    "id": "1JHMy1dQ8us1"
   },
   "source": [
    "sample_id = 12\n",
    "TARGET_IOU = 0.95\n",
    "\n",
    "sample = dataset.get_sample(sample_id)\n",
    "gt_mask = sample.gt_mask\n",
    "\n",
    "clicks_list, ious_arr, pred = evaluate_sample(sample.image, gt_mask, predictor, \n",
    "                                              pred_thr=MODEL_THRESH, \n",
    "                                              max_iou_thr=TARGET_IOU, max_clicks=EVAL_MAX_CLICKS)\n",
    "\n",
    "pred_mask = pred > MODEL_THRESH\n",
    "draw = vis.draw_with_blend_and_clicks(sample.image, mask=pred_mask, clicks_list=clicks_list)\n",
    "draw = np.concatenate((draw,\n",
    "    255 * pred_mask[:, :, np.newaxis].repeat(3, axis=2),\n",
    "    255 * (gt_mask > 0)[:, :, np.newaxis].repeat(3, axis=2)\n",
    "), axis=1)\n",
    "\n",
    "print(ious_arr)\n",
    "\n",
    "plt.figure(figsize=(20, 30))\n",
    "plt.imshow(draw)\n",
    "plt.show()"
   ],
   "execution_count": null,
   "outputs": []
  }
 ]
}
